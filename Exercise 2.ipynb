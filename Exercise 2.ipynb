{
 "cells": [
  {
   "cell_type": "markdown",
   "metadata": {},
   "source": [
    "# Exercise 2. - Filtering and Sorting Data\n",
    "\n",
    "Check out [Euro 12 Exercises Video Tutorial](https://youtu.be/iqk5d48Qisg) to watch a data scientist go through the exercises"
   ]
  },
  {
   "cell_type": "markdown",
   "metadata": {},
   "source": [
    "This time we are going to pull data directly from the internet.\n",
    "\n",
    "### Step 1. Import the necessary libraries"
   ]
  },
  {
   "cell_type": "code",
   "execution_count": 1,
   "metadata": {
    "collapsed": false
   },
   "outputs": [],
   "source": [
    "import pandas as pd\n"
   ]
  },
  {
   "cell_type": "markdown",
   "metadata": {},
   "source": [
    "### Step 2. Import the dataset from this [address](https://raw.githubusercontent.com/kflisikowsky/pandas_exercises/refs/heads/main/Euro_2012_stats_TEAM.csv). "
   ]
  },
  {
   "cell_type": "markdown",
   "metadata": {},
   "source": [
    "### Step 3. Assign it to a variable called euro12."
   ]
  },
  {
   "cell_type": "code",
   "execution_count": 2,
   "metadata": {
    "collapsed": false
   },
   "outputs": [],
   "source": [
    "url = \"https://raw.githubusercontent.com/kflisikowsky/pandas_exercises/refs/heads/main/Euro_2012_stats_TEAM.csv\"\n",
    "\n",
    "euro12 = pd.read_csv(url)"
   ]
  },
  {
   "cell_type": "markdown",
   "metadata": {},
   "source": [
    "### Step 4. Select only the Goal column."
   ]
  },
  {
   "cell_type": "code",
   "execution_count": 3,
   "metadata": {
    "collapsed": false
   },
   "outputs": [
    {
     "name": "stdout",
     "output_type": "stream",
     "text": [
      "0    4\n",
      "1    4\n",
      "2    4\n",
      "3    5\n",
      "4    3\n",
      "Name: Goals, dtype: int64\n"
     ]
    }
   ],
   "source": [
    "goals = euro12['Goals']\n",
    "print(goals.head())"
   ]
  },
  {
   "cell_type": "markdown",
   "metadata": {},
   "source": [
    "### Step 5. How many team participated in the Euro2012?"
   ]
  },
  {
   "cell_type": "code",
   "execution_count": 7,
   "metadata": {
    "collapsed": false
   },
   "outputs": [
    {
     "name": "stdout",
     "output_type": "stream",
     "text": [
      "Number of teams: 16\n"
     ]
    }
   ],
   "source": [
    "num_teams = euro12['Team'].nunique()\n",
    "print(\"Number of teams:\", num_teams)"
   ]
  },
  {
   "cell_type": "markdown",
   "metadata": {},
   "source": [
    "### Step 6. What is the number of columns in the dataset?"
   ]
  },
  {
   "cell_type": "code",
   "execution_count": 8,
   "metadata": {
    "collapsed": false
   },
   "outputs": [
    {
     "name": "stdout",
     "output_type": "stream",
     "text": [
      "Number of columns: 35\n"
     ]
    }
   ],
   "source": [
    "num_columns = euro12.shape[1]\n",
    "print(\"Number of columns:\", num_columns)\n"
   ]
  },
  {
   "cell_type": "markdown",
   "metadata": {},
   "source": [
    "### Step 7. View only the columns Team, Yellow Cards and Red Cards and assign them to a dataframe called discipline"
   ]
  },
  {
   "cell_type": "code",
   "execution_count": 9,
   "metadata": {
    "collapsed": false
   },
   "outputs": [
    {
     "name": "stdout",
     "output_type": "stream",
     "text": [
      "             Team  Yellow Cards  Red Cards\n",
      "0         Croatia             9          0\n",
      "1  Czech Republic             7          0\n",
      "2         Denmark             4          0\n",
      "3         England             5          0\n",
      "4          France             6          0\n"
     ]
    }
   ],
   "source": [
    "discipline = euro12[['Team', 'Yellow Cards', 'Red Cards']]\n",
    "print(discipline.head())\n"
   ]
  },
  {
   "cell_type": "markdown",
   "metadata": {},
   "source": [
    "### Step 8. Sort the teams by Red Cards, then to Yellow Cards"
   ]
  },
  {
   "cell_type": "code",
   "execution_count": 10,
   "metadata": {
    "collapsed": false,
    "scrolled": true
   },
   "outputs": [
    {
     "name": "stdout",
     "output_type": "stream",
     "text": [
      "                   Team  Yellow Cards  Red Cards\n",
      "2               Denmark             4          0\n",
      "5               Germany             4          0\n",
      "3               England             5          0\n",
      "8           Netherlands             5          0\n",
      "15              Ukraine             5          0\n",
      "4                France             6          0\n",
      "12               Russia             6          0\n",
      "1        Czech Republic             7          0\n",
      "14               Sweden             7          0\n",
      "0               Croatia             9          0\n",
      "13                Spain            11          0\n",
      "10             Portugal            12          0\n",
      "7                 Italy            16          0\n",
      "11  Republic of Ireland             6          1\n",
      "9                Poland             7          1\n",
      "6                Greece             9          1\n"
     ]
    }
   ],
   "source": [
    "sorted_discipline = discipline.sort_values(by=['Red Cards', 'Yellow Cards'])\n",
    "print(sorted_discipline)\n"
   ]
  },
  {
   "cell_type": "markdown",
   "metadata": {},
   "source": [
    "### Step 9. Calculate the mean Yellow Cards given per Team"
   ]
  },
  {
   "cell_type": "code",
   "execution_count": 11,
   "metadata": {
    "collapsed": false
   },
   "outputs": [
    {
     "name": "stdout",
     "output_type": "stream",
     "text": [
      "Mean Yellow Cards per team: 7.4375\n"
     ]
    }
   ],
   "source": [
    "mean_yellow = discipline['Yellow Cards'].mean()\n",
    "print(\"Mean Yellow Cards per team:\", mean_yellow)\n"
   ]
  },
  {
   "cell_type": "markdown",
   "metadata": {},
   "source": [
    "### Step 10. Filter teams that scored more than 6 goals"
   ]
  },
  {
   "cell_type": "code",
   "execution_count": 12,
   "metadata": {
    "collapsed": false
   },
   "outputs": [
    {
     "name": "stdout",
     "output_type": "stream",
     "text": [
      "       Team  Goals\n",
      "5   Germany     10\n",
      "13    Spain     12\n"
     ]
    }
   ],
   "source": [
    "high_scoring_teams = euro12[euro12['Goals'] > 6]\n",
    "print(high_scoring_teams[['Team', 'Goals']])"
   ]
  },
  {
   "cell_type": "markdown",
   "metadata": {},
   "source": [
    "### Step 11. Select the teams that start with G"
   ]
  },
  {
   "cell_type": "code",
   "execution_count": 13,
   "metadata": {
    "collapsed": false
   },
   "outputs": [
    {
     "name": "stdout",
     "output_type": "stream",
     "text": [
      "      Team\n",
      "5  Germany\n",
      "6   Greece\n"
     ]
    }
   ],
   "source": [
    "teams_starting_with_G = euro12[euro12['Team'].str.startswith('G')]\n",
    "print(teams_starting_with_G[['Team']])\n"
   ]
  },
  {
   "cell_type": "markdown",
   "metadata": {},
   "source": [
    "### Step 12. Select the first 7 columns"
   ]
  },
  {
   "cell_type": "code",
   "execution_count": 14,
   "metadata": {
    "collapsed": false
   },
   "outputs": [
    {
     "name": "stdout",
     "output_type": "stream",
     "text": [
      "             Team  Goals  Shots on target  Shots off target Shooting Accuracy  \\\n",
      "0         Croatia      4               13                12             51.9%   \n",
      "1  Czech Republic      4               13                18             41.9%   \n",
      "2         Denmark      4               10                10             50.0%   \n",
      "3         England      5               11                18             50.0%   \n",
      "4          France      3               22                24             37.9%   \n",
      "\n",
      "  % Goals-to-shots  Total shots (inc. Blocked)  \n",
      "0            16.0%                          32  \n",
      "1            12.9%                          39  \n",
      "2            20.0%                          27  \n",
      "3            17.2%                          40  \n",
      "4             6.5%                          65  \n"
     ]
    }
   ],
   "source": [
    "first_7_columns = euro12.iloc[:, :7]\n",
    "print(first_7_columns.head())\n"
   ]
  },
  {
   "cell_type": "markdown",
   "metadata": {},
   "source": [
    "### Step 13. Select all columns except the last 3."
   ]
  },
  {
   "cell_type": "code",
   "execution_count": 15,
   "metadata": {
    "collapsed": false
   },
   "outputs": [
    {
     "name": "stdout",
     "output_type": "stream",
     "text": [
      "             Team  Goals  Shots on target  Shots off target Shooting Accuracy  \\\n",
      "0         Croatia      4               13                12             51.9%   \n",
      "1  Czech Republic      4               13                18             41.9%   \n",
      "2         Denmark      4               10                10             50.0%   \n",
      "3         England      5               11                18             50.0%   \n",
      "4          France      3               22                24             37.9%   \n",
      "\n",
      "  % Goals-to-shots  Total shots (inc. Blocked)  Hit Woodwork  Penalty goals  \\\n",
      "0            16.0%                          32             0              0   \n",
      "1            12.9%                          39             0              0   \n",
      "2            20.0%                          27             1              0   \n",
      "3            17.2%                          40             0              0   \n",
      "4             6.5%                          65             1              0   \n",
      "\n",
      "   Penalties not scored  ...  Clean Sheets  Blocks  Goals conceded Saves made  \\\n",
      "0                     0  ...             0      10               3         13   \n",
      "1                     0  ...             1      10               6          9   \n",
      "2                     0  ...             1      10               5         10   \n",
      "3                     0  ...             2      29               3         22   \n",
      "4                     0  ...             1       7               5          6   \n",
      "\n",
      "   Saves-to-shots ratio  Fouls Won  Fouls Conceded  Offsides  Yellow Cards  \\\n",
      "0                 81.3%         41              62         2             9   \n",
      "1                 60.1%         53              73         8             7   \n",
      "2                 66.7%         25              38         8             4   \n",
      "3                 88.1%         43              45         6             5   \n",
      "4                 54.6%         36              51         5             6   \n",
      "\n",
      "   Red Cards  \n",
      "0          0  \n",
      "1          0  \n",
      "2          0  \n",
      "3          0  \n",
      "4          0  \n",
      "\n",
      "[5 rows x 32 columns]\n"
     ]
    }
   ],
   "source": [
    "all_but_last_3 = euro12.iloc[:, :-3]\n",
    "print(all_but_last_3.head())\n"
   ]
  },
  {
   "cell_type": "markdown",
   "metadata": {},
   "source": [
    "### Step 14. Present only the Shooting Accuracy from England, Italy and Russia"
   ]
  },
  {
   "cell_type": "code",
   "execution_count": 16,
   "metadata": {
    "collapsed": false
   },
   "outputs": [
    {
     "name": "stdout",
     "output_type": "stream",
     "text": [
      "3     50.0%\n",
      "7     43.0%\n",
      "12    22.5%\n",
      "Name: Shooting Accuracy, dtype: object\n"
     ]
    }
   ],
   "source": [
    "selected_countries_accuracy = euro12.loc[\n",
    "    euro12['Team'].isin(['England', 'Italy', 'Russia']),\n",
    "    'Shooting Accuracy'\n",
    "]\n",
    "print(selected_countries_accuracy)\n"
   ]
  }
 ],
 "metadata": {
  "anaconda-cloud": {},
  "kernelspec": {
   "display_name": "Python 3",
   "language": "python",
   "name": "python3"
  },
  "language_info": {
   "codemirror_mode": {
    "name": "ipython",
    "version": 3
   },
   "file_extension": ".py",
   "mimetype": "text/x-python",
   "name": "python",
   "nbconvert_exporter": "python",
   "pygments_lexer": "ipython3",
   "version": "3.11.9"
  }
 },
 "nbformat": 4,
 "nbformat_minor": 0
}
